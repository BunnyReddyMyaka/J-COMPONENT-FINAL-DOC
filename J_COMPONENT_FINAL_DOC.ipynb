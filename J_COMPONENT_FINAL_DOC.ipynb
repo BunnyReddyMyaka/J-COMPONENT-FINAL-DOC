{
  "cells": [
    {
      "cell_type": "markdown",
      "metadata": {
        "id": "5fCEDCU_qrC0"
      },
      "source": [
        "<p><img alt=\"Colaboratory logo\" height=\"45px\" src=\"/img/colab_favicon.ico\" align=\"left\" hspace=\"10px\" vspace=\"0px\"></p>\n",
        "\n",
        "<h1>What is Colaboratory?</h1>\n",
        "\n",
        "Colaboratory, or \"Colab\" for short, allows you to write and execute Python in your browser, with \n",
        "- Zero configuration required\n",
        "- Free access to GPUs\n",
        "- Easy sharing\n",
        "\n",
        "Whether you're a **student**, a **data scientist** or an **AI researcher**, Colab can make your work easier. Watch [Introduction to Colab](https://www.youtube.com/watch?v=inN8seMm7UI) to learn more, or just get started below!"
      ]
    },
    {
      "cell_type": "markdown",
      "metadata": {
        "id": "GJBs_flRovLc"
      },
      "source": [
        "## **Getting started**\n",
        "\n",
        "The document you are reading is not a static web page, but an interactive environment called a **Colab notebook** that lets you write and execute code.\n",
        "\n",
        "For example, here is a **code cell** with a short Python script that computes a value, stores it in a variable, and prints the result:"
      ]
    },
    {
      "cell_type": "code",
      "execution_count": null,
      "metadata": {
        "colab": {
          "base_uri": "https://localhost:8080/",
          "height": 34
        },
        "id": "gJr_9dXGpJ05",
        "outputId": "9f556d03-ec67-4950-a485-cfdba9ddd14d"
      },
      "outputs": [
        {
          "data": {
            "text/plain": [
              "86400"
            ]
          },
          "execution_count": 0,
          "metadata": {
            "tags": []
          },
          "output_type": "execute_result"
        }
      ],
      "source": [
        "seconds_in_a_day = 24 * 60 * 60\n",
        "seconds_in_a_day"
      ]
    },
    {
      "cell_type": "markdown",
      "metadata": {
        "id": "2fhs6GZ4qFMx"
      },
      "source": [
        "To execute the code in the above cell, select it with a click and then either press the play button to the left of the code, or use the keyboard shortcut \"Command/Ctrl+Enter\". To edit the code, just click the cell and start editing.\n",
        "\n",
        "Variables that you define in one cell can later be used in other cells:"
      ]
    },
    {
      "cell_type": "code",
      "execution_count": null,
      "metadata": {
        "colab": {
          "base_uri": "https://localhost:8080/",
          "height": 34
        },
        "id": "-gE-Ez1qtyIA",
        "outputId": "94cb2224-0edf-457b-90b5-0ac3488d8a97"
      },
      "outputs": [
        {
          "data": {
            "text/plain": [
              "604800"
            ]
          },
          "execution_count": 0,
          "metadata": {
            "tags": []
          },
          "output_type": "execute_result"
        }
      ],
      "source": [
        "seconds_in_a_week = 7 * seconds_in_a_day\n",
        "seconds_in_a_week"
      ]
    },
    {
      "cell_type": "markdown",
      "metadata": {
        "id": "lSrWNr3MuFUS"
      },
      "source": [
        "Colab notebooks allow you to combine **executable code** and **rich text** in a single document, along with **images**, **HTML**, **LaTeX** and more. When you create your own Colab notebooks, they are stored in your Google Drive account. You can easily share your Colab notebooks with co-workers or friends, allowing them to comment on your notebooks or even edit them. To learn more, see [Overview of Colab](/notebooks/basic_features_overview.ipynb). To create a new Colab notebook you can use the File menu above, or use the following link: [create a new Colab notebook](http://colab.research.google.com#create=true).\n",
        "\n",
        "Colab notebooks are Jupyter notebooks that are hosted by Colab. To learn more about the Jupyter project, see [jupyter.org](https://www.jupyter.org)."
      ]
    },
    {
      "cell_type": "markdown",
      "metadata": {
        "id": "UdRyKR44dcNI"
      },
      "source": [
        "## Data science\n",
        "\n",
        "With Colab you can harness the full power of popular Python libraries to analyze and visualize data. The code cell below uses **numpy** to generate some random data, and uses **matplotlib** to visualize it. To edit the code, just click the cell and start editing."
      ]
    },
    {
      "cell_type": "code",
      "execution_count": null,
      "metadata": {
        "colab": {
          "base_uri": "https://localhost:8080/",
          "height": 281
        },
        "id": "C4HZx7Gndbrh",
        "outputId": "8f05c684-42aa-4cd2-b62f-242f32ab3365"
      },
      "outputs": [
        {
          "output_type": "display_data",
          "data": {
            "image/png": "[encoded data removed]",
            "text/plain": [
              "<Figure size 432x288 with 1 Axes>"
            ]
          },
          "metadata": {
            "needs_background": "light"
          }
        }
      ],
      "source": [
        "import numpy as np\n",
        "from matplotlib import pyplot as plt\n",
        "\n",
        "ys = 200 + np.random.randn(100)\n",
        "x = [x for x in range(len(ys))]\n",
        "\n",
        "plt.plot(x, ys, '-')\n",
        "plt.fill_between(x, ys, 195, where=(ys > 195), facecolor='g', alpha=0.6)\n",
        "\n",
        "plt.title(\"Sample Visualization\")\n",
        "plt.show()"
      ]
    },
    {
      "cell_type": "markdown",
      "metadata": {
        "id": "4_kCnsPUqS6o"
      },
      "source": [
        "You can import your own data into Colab notebooks from your Google Drive account, including from spreadsheets, as well as from Github and many other sources. To learn more about importing data, and how Colab can be used for data science, see the links below under [Working with Data](#working-with-data)."
      ]
    },
    {
      "cell_type": "markdown",
      "metadata": {
        "id": "OwuxHmxllTwN"
      },
      "source": [
        "## Machine learning\n",
        "\n",
        "With Colab you can import an image dataset, train an image classifier on it, and evaluate the model, all in just [a few lines of code](https://colab.research.google.com/github/tensorflow/docs/blob/master/site/en/tutorials/quickstart/beginner.ipynb). Colab notebooks execute code on Google's cloud servers, meaning you can leverage the power of Google hardware, including [GPUs and TPUs](#using-accelerated-hardware), regardless of the power of your machine. All you need is a browser."
      ]
    },
    {
      "cell_type": "markdown",
      "metadata": {
        "id": "ufxBm1yRnruN"
      },
      "source": [
        "Colab is used extensively in the machine learning community with applications including:\n",
        "- Getting started with TensorFlow\n",
        "- Developing and training neural networks\n",
        "- Experimenting with TPUs\n",
        "- Disseminating AI research\n",
        "- Creating tutorials\n",
        "\n",
        "To see sample Colab notebooks that demonstrate machine learning applications, see the [machine learning examples](#machine-learning-examples) below."
      ]
    },
    {
      "cell_type": "markdown",
      "metadata": {
        "id": "-Rh3-Vt9Nev9"
      },
      "source": [
        "## More Resources\n",
        "\n",
        "### Working with Notebooks in Colab\n",
        "- [Overview of Colaboratory](/notebooks/basic_features_overview.ipynb)\n",
        "- [Guide to Markdown](/notebooks/markdown_guide.ipynb)\n",
        "- [Importing libraries and installing dependencies](/notebooks/snippets/importing_libraries.ipynb)\n",
        "- [Saving and loading notebooks in GitHub](https://colab.research.google.com/github/googlecolab/colabtools/blob/master/notebooks/colab-github-demo.ipynb)\n",
        "- [Interactive forms](/notebooks/forms.ipynb)\n",
        "- [Interactive widgets](/notebooks/widgets.ipynb)\n",
        "- <img src=\"/img/new.png\" height=\"20px\" align=\"left\" hspace=\"4px\" alt=\"New\"></img>\n",
        " [TensorFlow 2 in Colab](/notebooks/tensorflow_version.ipynb)\n",
        "\n",
        "<a name=\"working-with-data\"></a>\n",
        "### Working with Data\n",
        "- [Loading data: Drive, Sheets, and Google Cloud Storage](/notebooks/io.ipynb) \n",
        "- [Charts: visualizing data](/notebooks/charts.ipynb)\n",
        "- [Getting started with BigQuery](/notebooks/bigquery.ipynb)\n",
        "\n",
        "### Machine Learning Crash Course\n",
        "These are a few of the notebooks from Google's online Machine Learning course. See the [full course website](https://developers.google.com/machine-learning/crash-course/) for more.\n",
        "- [Intro to Pandas DataFrame](https://colab.research.google.com/github/google/eng-edu/blob/main/ml/cc/exercises/pandas_dataframe_ultraquick_tutorial.ipynb)\n",
        "- [Linear regression with tf.keras using synthetic data](https://colab.research.google.com/github/google/eng-edu/blob/main/ml/cc/exercises/linear_regression_with_synthetic_data.ipynb)\n",
        "\n",
        "\n",
        "<a name=\"using-accelerated-hardware\"></a>\n",
        "### Using Accelerated Hardware\n",
        "- [TensorFlow with GPUs](/notebooks/gpu.ipynb)\n",
        "- [TensorFlow with TPUs](/notebooks/tpu.ipynb)"
      ]
    },
    {
      "cell_type": "markdown",
      "metadata": {
        "id": "P-H6Lw1vyNNd"
      },
      "source": [
        "<a name=\"machine-learning-examples\"></a>\n",
        "\n",
        "## Machine Learning Examples\n",
        "\n",
        "To see end-to-end examples of the interactive machine learning analyses that Colaboratory makes possible, check out these  tutorials using models from [TensorFlow Hub](https://tfhub.dev).\n",
        "\n",
        "A few featured examples:\n",
        "\n",
        "- [Retraining an Image Classifier](https://tensorflow.org/hub/tutorials/tf2_image_retraining): Build a Keras model on top of a pre-trained image classifier to distinguish flowers.\n",
        "- [Text Classification](https://tensorflow.org/hub/tutorials/tf2_text_classification): Classify IMDB movie reviews as either *positive* or *negative*.\n",
        "- [Style Transfer](https://tensorflow.org/hub/tutorials/tf2_arbitrary_image_stylization): Use deep learning to transfer style between images.\n",
        "- [Multilingual Universal Sentence Encoder Q&A](https://tensorflow.org/hub/tutorials/retrieval_with_tf_hub_universal_encoder_qa): Use a machine learning model to answer questions from the SQuAD dataset.\n",
        "- [Video Interpolation](https://tensorflow.org/hub/tutorials/tweening_conv3d): Predict what happened in a video between the first and the last frame.\n"
      ]
    },
    {
      "cell_type": "code",
      "execution_count": 5,
      "metadata": {
        "colab": {
          "base_uri": "https://localhost:8080/"
        },
        "id": "FQBn99HavxI5",
        "outputId": "5ad0a240-f2ee-4bf8-953c-b4f8433ccae0"
      },
      "outputs": [
        {
          "output_type": "stream",
          "name": "stdout",
          "text": [
            "           Date      Time  CO(GT)  PT08.S1(CO)  ...  PT08.S5(O3)     T    RH      AH\n",
            "0     3/10/2004  18:00:00     2.6         1360  ...         1268  13.6  48.9  0.7578\n",
            "1     3/10/2004  19:00:00     2.0         1292  ...          972  13.3  47.7  0.7255\n",
            "2     3/10/2004  20:00:00     2.2         1402  ...         1074  11.9  54.0  0.7502\n",
            "3     3/10/2004  21:00:00     2.2         1376  ...         1203  11.0  60.0  0.7867\n",
            "4     3/10/2004  22:00:00     1.6         1272  ...         1110  11.2  59.6  0.7888\n",
            "...         ...       ...     ...          ...  ...          ...   ...   ...     ...\n",
            "9352   4/4/2005  10:00:00     3.1         1314  ...         1729  21.9  29.3  0.7568\n",
            "9353   4/4/2005  11:00:00     2.4         1163  ...         1269  24.3  23.7  0.7119\n",
            "9354   4/4/2005  12:00:00     2.4         1142  ...         1092  26.9  18.3  0.6406\n",
            "9355   4/4/2005  13:00:00     2.1         1003  ...          770  28.3  13.5  0.5139\n",
            "9356   4/4/2005  14:00:00     2.2         1071  ...          816  28.5  13.1  0.5028\n",
            "\n",
            "[9357 rows x 15 columns]\n"
          ]
        }
      ],
      "source": [
        "import pandas as pd\n",
        "d=pd.read_csv('/content/ml.csv')\n",
        "print(d)"
      ]
    },
    {
      "cell_type": "code",
      "execution_count": 6,
      "metadata": {
        "colab": {
          "base_uri": "https://localhost:8080/"
        },
        "id": "ssIieRCOvxYr",
        "outputId": "c3287a93-883f-4333-985a-d58485f1510c"
      },
      "outputs": [
        {
          "output_type": "stream",
          "name": "stdout",
          "text": [
            "0       2.6\n",
            "1       2.0\n",
            "2       2.2\n",
            "3       2.2\n",
            "4       1.6\n",
            "       ... \n",
            "9352    3.1\n",
            "9353    2.4\n",
            "9354    2.4\n",
            "9355    2.1\n",
            "9356    2.2\n",
            "Name: CO(GT), Length: 9357, dtype: float64 0       1360\n",
            "1       1292\n",
            "2       1402\n",
            "3       1376\n",
            "4       1272\n",
            "        ... \n",
            "9352    1314\n",
            "9353    1163\n",
            "9354    1142\n",
            "9355    1003\n",
            "9356    1071\n",
            "Name: PT08.S1(CO), Length: 9357, dtype: int64 0       150\n",
            "1       112\n",
            "2        88\n",
            "3        80\n",
            "4        51\n",
            "       ... \n",
            "9352   -200\n",
            "9353   -200\n",
            "9354   -200\n",
            "9355   -200\n",
            "9356   -200\n",
            "Name: NMHC(GT), Length: 9357, dtype: int64 0       11.9\n",
            "1        9.4\n",
            "2        9.0\n",
            "3        9.2\n",
            "4        6.5\n",
            "        ... \n",
            "9352    13.5\n",
            "9353    11.4\n",
            "9354    12.4\n",
            "9355     9.5\n",
            "9356    11.9\n",
            "Name: C6H6(GT), Length: 9357, dtype: float64 0       1046\n",
            "1        955\n",
            "2        939\n",
            "3        948\n",
            "4        836\n",
            "        ... \n",
            "9352    1101\n",
            "9353    1027\n",
            "9354    1063\n",
            "9355     961\n",
            "9356    1047\n",
            "Name: PT08.S2(NMHC), Length: 9357, dtype: int64 0       166\n",
            "1       103\n",
            "2       131\n",
            "3       172\n",
            "4       131\n",
            "       ... \n",
            "9352    472\n",
            "9353    353\n",
            "9354    293\n",
            "9355    235\n",
            "9356    265\n",
            "Name: NOx(GT), Length: 9357, dtype: int64 0       1056\n",
            "1       1174\n",
            "2       1140\n",
            "3       1092\n",
            "4       1205\n",
            "        ... \n",
            "9352     539\n",
            "9353     604\n",
            "9354     603\n",
            "9355     702\n",
            "9356     654\n",
            "Name: PT08.S3(NOx), Length: 9357, dtype: int64 0       113\n",
            "1        92\n",
            "2       114\n",
            "3       122\n",
            "4       116\n",
            "       ... \n",
            "9352    190\n",
            "9353    179\n",
            "9354    175\n",
            "9355    156\n",
            "9356    168\n",
            "Name: NO2(GT), Length: 9357, dtype: int64 0       1692\n",
            "1       1559\n",
            "2       1555\n",
            "3       1584\n",
            "4       1490\n",
            "        ... \n",
            "9352    1374\n",
            "9353    1264\n",
            "9354    1241\n",
            "9355    1041\n",
            "9356    1129\n",
            "Name: PT08.S4(NO2), Length: 9357, dtype: int64 0       1268\n",
            "1        972\n",
            "2       1074\n",
            "3       1203\n",
            "4       1110\n",
            "        ... \n",
            "9352    1729\n",
            "9353    1269\n",
            "9354    1092\n",
            "9355     770\n",
            "9356     816\n",
            "Name: PT08.S5(O3), Length: 9357, dtype: int64 0       13.6\n",
            "1       13.3\n",
            "2       11.9\n",
            "3       11.0\n",
            "4       11.2\n",
            "        ... \n",
            "9352    21.9\n",
            "9353    24.3\n",
            "9354    26.9\n",
            "9355    28.3\n",
            "9356    28.5\n",
            "Name: T, Length: 9357, dtype: float64 0       48.9\n",
            "1       47.7\n",
            "2       54.0\n",
            "3       60.0\n",
            "4       59.6\n",
            "        ... \n",
            "9352    29.3\n",
            "9353    23.7\n",
            "9354    18.3\n",
            "9355    13.5\n",
            "9356    13.1\n",
            "Name: RH, Length: 9357, dtype: float64 0       0.7578\n",
            "1       0.7255\n",
            "2       0.7502\n",
            "3       0.7867\n",
            "4       0.7888\n",
            "         ...  \n",
            "9352    0.7568\n",
            "9353    0.7119\n",
            "9354    0.6406\n",
            "9355    0.5139\n",
            "9356    0.5028\n",
            "Name: AH, Length: 9357, dtype: float64\n"
          ]
        }
      ],
      "source": [
        "x1=d['CO(GT)']\n",
        "x2=d['PT08.S1(CO)']\n",
        "x3=d['NMHC(GT)']\n",
        "x4=d['C6H6(GT)']\n",
        "x5=d['PT08.S2(NMHC)']\n",
        "x6=d['NOx(GT)']\n",
        "x7=d['PT08.S3(NOx)']\n",
        "x8=d['NO2(GT)']\n",
        "x9=d['PT08.S4(NO2)']\n",
        "x10=d['PT08.S5(O3)']\n",
        "x11=d['T']\n",
        "x12=d['RH']\n",
        "y=d['AH']\n",
        "print(x1,x2,x3,x4,x5,x6,x7,x8,x9,x10,x11,x12,y)"
      ]
    },
    {
      "cell_type": "code",
      "source": [
        "import numpy as np\n",
        "\n",
        "e=[]\n",
        "ee=[]\n",
        "def linear(m1,m2,m3,m4,m5,m6,m7,m8,m9,m10,m11,m12,c):\n",
        "  sum=0\n",
        "  yp=[]\n",
        "\n",
        "  for i in range(0,6000):\n",
        "    yp.append(m1*x1[i]+m2*x2[i]+m3*x3[i]+m4*x4[i]+m5*x5[i]+m6*x6[i]+m7*x7[i]+m8*x8[i]+m9*x9[i]+m10*x10[i]+m11*x11[i]+m12*x12[i]+c)\n",
        "    g=(y[i]-yp[i])**2\n",
        "    sum=sum+g\n",
        "  e.append(sum)\n",
        "  ee.append(np.mod(sum,6000))\n",
        "  print(m1,m2,m3,m4,m5,m6,m7,m8,m9,m10,m11,m12,c,np.mod(sum,6000))\n",
        "  sum=0\n",
        "\n",
        "\n",
        "for i in range(1,100):\n",
        "  linear(1+i,2+i,3+i,4+i,5+i,6+i,7+i,8+i,9+i,10+i,11+i,12+i,13+i)"
      ],
      "metadata": {
        "colab": {
          "base_uri": "https://localhost:8080/"
        },
        "id": "-PwYLAi9zyIK",
        "outputId": "abe45850-e937-4117-f171-8e4f7e9eb9a1"
      },
      "execution_count": 7,
      "outputs": [
        {
          "output_type": "stream",
          "name": "stdout",
          "text": [
            "2 3 4 5 6 7 8 9 10 11 12 13 14 1376.408203125\n",
            "3 4 5 6 7 8 9 10 11 12 13 14 15 2004.1796875\n",
            "4 5 6 7 8 9 10 11 12 13 14 15 16 4985.125\n",
            "5 6 7 8 9 10 11 12 13 14 15 16 17 4319.125\n",
            "6 7 8 9 10 11 12 13 14 15 16 17 18 6.24609375\n",
            "7 8 9 10 11 12 13 14 15 16 17 18 19 4046.64453125\n",
            "8 9 10 11 12 13 14 15 16 17 18 19 20 4439.9765625\n",
            "9 10 11 12 13 14 15 16 17 18 19 20 21 1186.5078125\n",
            "10 11 12 13 14 15 16 17 18 19 20 21 22 286.0703125\n",
            "11 12 13 14 15 16 17 18 19 20 21 22 23 1738.90625\n",
            "12 13 14 15 16 17 18 19 20 21 22 23 24 5544.796875\n",
            "13 14 15 16 17 18 19 20 21 22 23 24 25 5703.75\n",
            "14 15 16 17 18 19 20 21 22 23 24 25 26 2215.90625\n",
            "15 16 17 18 19 20 21 22 23 24 25 26 27 1081.53125\n",
            "16 17 18 19 20 21 22 23 24 25 26 27 28 2299.359375\n",
            "17 18 19 20 21 22 23 24 25 26 27 28 29 5870.859375\n",
            "18 19 20 21 22 23 24 25 26 27 28 29 30 5795.25\n",
            "19 20 21 22 23 24 25 26 27 28 29 30 31 2073.25\n",
            "20 21 22 23 24 25 26 27 28 29 30 31 32 704.140625\n",
            "21 22 23 24 25 26 27 28 29 30 31 32 33 1688.296875\n",
            "22 23 24 25 26 27 28 29 30 31 32 33 34 5024.8125\n",
            "23 24 25 26 27 28 29 30 31 32 33 34 35 4715.3125\n",
            "24 25 26 27 28 29 30 31 32 33 34 35 36 759.09375\n",
            "25 26 27 28 29 30 31 32 33 34 35 36 37 5154.8125\n",
            "26 27 28 29 30 31 32 33 34 35 36 37 38 5904.5\n",
            "27 28 29 30 31 32 33 34 35 36 37 38 39 3007.5\n",
            "28 29 30 31 32 33 34 35 36 37 38 39 40 2462.53125\n",
            "29 30 31 32 33 34 35 36 37 38 39 40 41 4272.46875\n",
            "30 31 32 33 34 35 36 37 38 39 40 41 42 2434.40625\n",
            "31 32 33 34 35 36 37 38 39 40 41 42 43 2949.40625\n",
            "32 33 34 35 36 37 38 39 40 41 42 43 44 5817.25\n",
            "33 34 35 36 37 38 39 40 41 42 43 44 45 5037.375\n",
            "34 35 36 37 38 39 40 41 42 43 44 45 46 614.0\n",
            "35 36 37 38 39 40 41 42 43 44 45 46 47 4540.875\n",
            "36 37 38 39 40 41 42 43 44 45 46 47 48 4820.9375\n",
            "37 38 39 40 41 42 43 44 45 46 47 48 49 1454.5\n",
            "38 39 40 41 42 43 44 45 46 47 48 49 50 443.0\n",
            "39 40 41 42 43 44 45 46 47 48 49 50 51 1781.9375\n",
            "40 41 42 43 44 45 46 47 48 49 50 51 52 5476.125\n",
            "41 42 43 44 45 46 47 48 49 50 51 52 53 5522.1875\n",
            "42 43 44 45 46 47 48 49 50 51 52 53 54 1921.5\n",
            "43 44 45 46 47 48 49 50 51 52 53 54 55 672.875\n",
            "44 45 46 47 48 49 50 51 52 53 54 55 56 1779.3125\n",
            "45 46 47 48 49 50 51 52 53 54 55 56 57 5237.25\n",
            "46 47 48 49 50 51 52 53 54 55 56 57 58 5050.75\n",
            "47 48 49 50 51 52 53 54 55 56 57 58 59 1216.6875\n",
            "48 49 50 51 52 53 54 55 56 57 58 59 60 5732.9375\n",
            "49 50 51 52 53 54 55 56 57 58 59 60 61 607.0\n",
            "50 51 52 53 54 55 56 57 58 59 60 61 62 3828.5\n",
            "51 52 53 54 55 56 57 58 59 60 61 62 63 3404.875\n",
            "52 53 54 55 56 57 58 59 60 61 62 63 64 5338.75\n",
            "53 54 55 56 57 58 59 60 61 62 63 64 65 3622.375\n",
            "54 55 56 57 58 59 60 61 62 63 64 65 66 4260.125\n",
            "55 56 57 58 59 60 61 62 63 64 65 66 67 1248.625\n",
            "56 57 58 59 60 61 62 63 64 65 66 67 68 591.625\n",
            "57 58 59 60 61 62 63 64 65 66 67 68 69 2289.375\n",
            "58 59 60 61 62 63 64 65 66 67 68 69 70 338.375\n",
            "59 60 61 62 63 64 65 66 67 68 69 70 71 744.75\n",
            "60 61 62 63 64 65 66 67 68 69 70 71 72 3497.875\n",
            "61 62 63 64 65 66 67 68 69 70 71 72 73 2606.25\n",
            "62 63 64 65 66 67 68 69 70 71 72 73 74 4066.125\n",
            "63 64 65 66 67 68 69 70 71 72 73 74 75 1880.75\n",
            "64 65 66 67 68 69 70 71 72 73 74 75 76 2047.875\n",
            "65 66 67 68 69 70 71 72 73 74 75 76 77 4569.125\n",
            "66 67 68 69 70 71 72 73 74 75 76 77 78 3441.375\n",
            "67 68 69 70 71 72 73 74 75 76 77 78 79 4675.0\n",
            "68 69 70 71 72 73 74 75 76 77 78 79 80 2255.625\n",
            "69 70 71 72 73 74 75 76 77 78 79 80 81 2186.625\n",
            "70 71 72 73 74 75 76 77 78 79 80 81 82 4471.5\n",
            "71 72 73 74 75 76 77 78 79 80 81 82 83 3111.625\n",
            "72 73 74 75 76 77 78 79 80 81 82 83 84 4106.0\n",
            "73 74 75 76 77 78 79 80 81 82 83 84 85 1452.75\n",
            "74 75 76 77 78 79 80 81 82 83 84 85 86 1150.0\n",
            "75 76 77 78 79 80 81 82 83 84 85 86 87 3206.0\n",
            "76 77 78 79 80 81 82 83 84 85 86 87 88 1614.0\n",
            "77 78 79 80 81 82 83 84 85 86 87 88 89 2366.5\n",
            "78 79 80 81 82 83 84 85 86 87 88 89 90 5480.5\n",
            "79 80 81 82 83 84 85 86 87 88 89 90 91 4941.75\n",
            "80 81 82 83 84 85 86 87 88 89 90 91 92 758.5\n",
            "81 82 83 84 85 86 87 88 89 90 91 92 93 4938.5\n",
            "82 83 84 85 86 87 88 89 90 91 92 93 94 5460.0\n",
            "83 84 85 86 87 88 89 90 91 92 93 94 95 2336.75\n",
            "84 85 86 87 88 89 90 91 92 93 94 95 96 1564.75\n",
            "85 86 87 88 89 90 91 92 93 94 95 96 97 3154.25\n",
            "86 87 88 89 90 91 92 93 94 95 96 97 98 1092.75\n",
            "87 88 89 90 91 92 93 94 95 96 97 98 99 1380.75\n",
            "88 89 90 91 92 93 94 95 96 97 98 99 100 4017.25\n",
            "89 90 91 92 93 94 95 96 97 98 99 100 101 3012.5\n",
            "90 91 92 93 94 95 96 97 98 99 100 101 102 4368.0\n",
            "91 92 93 94 95 96 97 98 99 100 101 102 103 2067.75\n",
            "92 93 94 95 96 97 98 99 100 101 102 103 104 2128.5\n",
            "93 94 95 96 97 98 99 100 101 102 103 104 105 4530.5\n",
            "94 95 96 97 98 99 100 101 102 103 104 105 106 3292.0\n",
            "95 96 97 98 99 100 101 102 103 104 105 106 107 4409.5\n",
            "96 97 98 99 100 101 102 103 104 105 106 107 108 1878.0\n",
            "97 98 99 100 101 102 103 104 105 106 107 108 109 1692.75\n",
            "98 99 100 101 102 103 104 105 106 107 108 109 110 3871.75\n",
            "99 100 101 102 103 104 105 106 107 108 109 110 111 2396.5\n",
            "100 101 102 103 104 105 106 107 108 109 110 111 112 3274.75\n"
          ]
        }
      ]
    },
    {
      "cell_type": "code",
      "execution_count": 8,
      "metadata": {
        "colab": {
          "base_uri": "https://localhost:8080/"
        },
        "id": "ho7wmTG3HvAQ",
        "outputId": "321e6c19-1171-4b16-e189-dfcd36df7adb"
      },
      "outputs": [
        {
          "output_type": "stream",
          "name": "stdout",
          "text": [
            "[1376.408203125, 2004.1796875, 4985.125, 4319.125, 6.24609375, 4046.64453125, 4439.9765625, 1186.5078125, 286.0703125, 1738.90625, 5544.796875, 5703.75, 2215.90625, 1081.53125, 2299.359375, 5870.859375, 5795.25, 2073.25, 704.140625, 1688.296875, 5024.8125, 4715.3125, 759.09375, 5154.8125, 5904.5, 3007.5, 2462.53125, 4272.46875, 2434.40625, 2949.40625, 5817.25, 5037.375, 614.0, 4540.875, 4820.9375, 1454.5, 443.0, 1781.9375, 5476.125, 5522.1875, 1921.5, 672.875, 1779.3125, 5237.25, 5050.75, 1216.6875, 5732.9375, 607.0, 3828.5, 3404.875, 5338.75, 3622.375, 4260.125, 1248.625, 591.625, 2289.375, 338.375, 744.75, 3497.875, 2606.25, 4066.125, 1880.75, 2047.875, 4569.125, 3441.375, 4675.0, 2255.625, 2186.625, 4471.5, 3111.625, 4106.0, 1452.75, 1150.0, 3206.0, 1614.0, 2366.5, 5480.5, 4941.75, 758.5, 4938.5, 5460.0, 2336.75, 1564.75, 3154.25, 1092.75, 1380.75, 4017.25, 3012.5, 4368.0, 2067.75, 2128.5, 4530.5, 3292.0, 4409.5, 1878.0, 1692.75, 3871.75, 2396.5, 3274.75]\n"
          ]
        }
      ],
      "source": [
        "print(ee)"
      ]
    },
    {
      "cell_type": "code",
      "execution_count": 9,
      "metadata": {
        "colab": {
          "base_uri": "https://localhost:8080/"
        },
        "id": "PDglDTSVH3JQ",
        "outputId": "6e8da4c4-0b85-4d43-d37c-e02d4eaf4790"
      },
      "outputs": [
        {
          "output_type": "stream",
          "name": "stdout",
          "text": [
            "6.24609375\n"
          ]
        }
      ],
      "source": [
        "a=np.array(ee).min()\n",
        "print(a)\n",
        "c=np.where(ee==a)\n"
      ]
    },
    {
      "cell_type": "code",
      "source": [
        "print(c)"
      ],
      "metadata": {
        "colab": {
          "base_uri": "https://localhost:8080/"
        },
        "id": "wAGxjNyqh5Jr",
        "outputId": "da8de89a-9e1c-4a50-eb08-844df055f7df"
      },
      "execution_count": 10,
      "outputs": [
        {
          "output_type": "stream",
          "name": "stdout",
          "text": [
            "(array([4]),)\n"
          ]
        }
      ]
    },
    {
      "cell_type": "code",
      "source": [
        "ee1=np.arange(0,99)\n",
        "print(ee1)"
      ],
      "metadata": {
        "colab": {
          "base_uri": "https://localhost:8080/"
        },
        "id": "tzPhyZXL6-ML",
        "outputId": "ba9ef29c-349d-46d8-8041-96e1616d9f8b"
      },
      "execution_count": 11,
      "outputs": [
        {
          "output_type": "stream",
          "name": "stdout",
          "text": [
            "[ 0  1  2  3  4  5  6  7  8  9 10 11 12 13 14 15 16 17 18 19 20 21 22 23\n",
            " 24 25 26 27 28 29 30 31 32 33 34 35 36 37 38 39 40 41 42 43 44 45 46 47\n",
            " 48 49 50 51 52 53 54 55 56 57 58 59 60 61 62 63 64 65 66 67 68 69 70 71\n",
            " 72 73 74 75 76 77 78 79 80 81 82 83 84 85 86 87 88 89 90 91 92 93 94 95\n",
            " 96 97 98]\n"
          ]
        }
      ]
    },
    {
      "cell_type": "code",
      "source": [
        "import numpy as np\n",
        "\n",
        "z=[]\n",
        "zz=[]\n",
        "def linear1(m1,m2,m3,m4,m5,m6,m7,m8,m9,m10,m11,m12,c):\n",
        "  sum=0\n",
        "  yp=[]\n",
        "  j=0\n",
        "\n",
        "  for i in range(6001,9357):\n",
        "    yp.append(m1*x1[i]+m2*x2[i]+m3*x3[i]+m4*x4[i]+m5*x5[i]+m6*x6[i]+m7*x7[i]+m8*x8[i]+m9*x9[i]+m10*x10[i]+m11*x11[i]+m12*x12[i]+c)\n",
        "    g=(y[i]-yp[j])**2\n",
        "    sum=sum+g\n",
        "    j=j+1\n",
        "    sum=sum+g\n",
        "  z.append(sum)\n",
        "  zz.append(np.mod(sum,3357))\n",
        "  print(m1,m2,m3,m4,m5,m6,m7,m8,m9,m10,m11,m12,c,np.mod(sum,3357))\n",
        "\n",
        "\n",
        "linear1(6, 7, 8, 9, 10, 11, 12, 13, 14, 15, 16, 17, 18)"
      ],
      "metadata": {
        "colab": {
          "base_uri": "https://localhost:8080/"
        },
        "id": "ENY5P-2phix8",
        "outputId": "02c8fd2b-beea-4989-af63-f079c31d45b9"
      },
      "execution_count": 12,
      "outputs": [
        {
          "output_type": "stream",
          "name": "stdout",
          "text": [
            "6 7 8 9 10 11 12 13 14 15 16 17 18 340.03125\n"
          ]
        }
      ]
    },
    {
      "cell_type": "code",
      "execution_count": 13,
      "metadata": {
        "colab": {
          "base_uri": "https://localhost:8080/",
          "height": 282
        },
        "id": "_O1MD7jsOvtU",
        "outputId": "a9817de2-ec45-466c-c0b8-59d397f29531"
      },
      "outputs": [
        {
          "output_type": "execute_result",
          "data": {
            "text/plain": [
              "[<matplotlib.lines.Line2D at 0x7f553c089850>]"
            ]
          },
          "metadata": {},
          "execution_count": 13
        },
        {
          "output_type": "display_data",
          "data": {
            "image/png": "[encoded data removed]",
            "text/plain": [
              "<Figure size 432x288 with 1 Axes>"
            ]
          },
          "metadata": {
            "needs_background": "light"
          }
        }
      ],
      "source": [
        "from matplotlib import pyplot as pp\n",
        "pp.plot(ee1,ee)"
      ]
    },
    {
      "cell_type": "code",
      "execution_count": null,
      "metadata": {
        "colab": {
          "base_uri": "https://localhost:8080/",
          "height": 282
        },
        "id": "YWwqewLy9EhB",
        "outputId": "d5f9df53-dc0f-422b-e538-66959d649340"
      },
      "outputs": [
        {
          "data": {
            "text/plain": [
              "<matplotlib.collections.PathCollection at 0x7fa4af62a6d0>"
            ]
          },
          "execution_count": 10,
          "metadata": {},
          "output_type": "execute_result"
        },
        {
          "data": {
            "image/png": "[encoded data removed]",
            "text/plain": [
              "<Figure size 432x288 with 1 Axes>"
            ]
          },
          "metadata": {},
          "output_type": "display_data"
        }
      ],
      "source": [
        "from matplotlib import pyplot as pt\n",
        "pt.scatter(x1,y)"
      ]
    },
    {
      "cell_type": "code",
      "execution_count": null,
      "metadata": {
        "colab": {
          "base_uri": "https://localhost:8080/",
          "height": 282
        },
        "id": "MV8-q52Q-34x",
        "outputId": "9a3ac12e-bfae-4def-bc6e-1ef6e77ce0a1"
      },
      "outputs": [
        {
          "data": {
            "text/plain": [
              "<matplotlib.collections.PathCollection at 0x7f68e14ba150>"
            ]
          },
          "execution_count": 21,
          "metadata": {},
          "output_type": "execute_result"
        },
        {
          "data": {
            "image/png": "[encoded data removed]",
            "text/plain": [
              "<Figure size 432x288 with 1 Axes>"
            ]
          },
          "metadata": {},
          "output_type": "display_data"
        }
      ],
      "source": [
        "pt.scatter(x2,y)"
      ]
    },
    {
      "cell_type": "code",
      "execution_count": null,
      "metadata": {
        "colab": {
          "base_uri": "https://localhost:8080/",
          "height": 282
        },
        "id": "7xAm59LN--UM",
        "outputId": "1d2b84e7-d10c-4227-ac4c-4b05013b9e0c"
      },
      "outputs": [
        {
          "data": {
            "text/plain": [
              "<matplotlib.collections.PathCollection at 0x7f68e16aebd0>"
            ]
          },
          "execution_count": 16,
          "metadata": {},
          "output_type": "execute_result"
        },
        {
          "data": {
            "image/png": "[encoded data removed]",
            "text/plain": [
              "<Figure size 432x288 with 1 Axes>"
            ]
          },
          "metadata": {},
          "output_type": "display_data"
        }
      ],
      "source": [
        "pt.scatter(x3,y)"
      ]
    },
    {
      "cell_type": "code",
      "execution_count": null,
      "metadata": {
        "colab": {
          "base_uri": "https://localhost:8080/",
          "height": 282
        },
        "id": "1zJHhfzn_Aa1",
        "outputId": "349bb261-6374-4182-c218-72bd5a675254"
      },
      "outputs": [
        {
          "data": {
            "text/plain": [
              "<matplotlib.collections.PathCollection at 0x7f68e16b7ad0>"
            ]
          },
          "execution_count": 17,
          "metadata": {},
          "output_type": "execute_result"
        },
        {
          "data": {
            "image/png": "[encoded data removed]",
            "text/plain": [
              "<Figure size 432x288 with 1 Axes>"
            ]
          },
          "metadata": {},
          "output_type": "display_data"
        }
      ],
      "source": [
        "pt.scatter(x4,y)"
      ]
    },
    {
      "cell_type": "code",
      "execution_count": null,
      "metadata": {
        "colab": {
          "base_uri": "https://localhost:8080/",
          "height": 282
        },
        "id": "NRilx5MW_CPL",
        "outputId": "6c3d0001-b4d4-4d0f-ae0d-479804f61f01"
      },
      "outputs": [
        {
          "data": {
            "text/plain": [
              "<matplotlib.collections.PathCollection at 0x7f68e1bec7d0>"
            ]
          },
          "execution_count": 18,
          "metadata": {},
          "output_type": "execute_result"
        },
        {
          "data": {
            "image/png": "[encoded data removed]",
            "text/plain": [
              "<Figure size 432x288 with 1 Axes>"
            ]
          },
          "metadata": {},
          "output_type": "display_data"
        }
      ],
      "source": [
        "pt.scatter(x5,y)"
      ]
    },
    {
      "cell_type": "code",
      "execution_count": null,
      "metadata": {
        "colab": {
          "base_uri": "https://localhost:8080/",
          "height": 282
        },
        "id": "hQ0nZQwQ_ELo",
        "outputId": "bc6b0926-33b8-4107-81f9-5ee7dd0acde1"
      },
      "outputs": [
        {
          "data": {
            "text/plain": [
              "<matplotlib.collections.PathCollection at 0x7f68e1423990>"
            ]
          },
          "execution_count": 22,
          "metadata": {},
          "output_type": "execute_result"
        },
        {
          "data": {
            "image/png": "[encoded data removed]",
            "text/plain": [
              "<Figure size 432x288 with 1 Axes>"
            ]
          },
          "metadata": {},
          "output_type": "display_data"
        }
      ],
      "source": [
        "pt.scatter(x6,y)"
      ]
    },
    {
      "cell_type": "code",
      "execution_count": null,
      "metadata": {
        "colab": {
          "base_uri": "https://localhost:8080/",
          "height": 282
        },
        "id": "LR9QP0Vv_d-h",
        "outputId": "2efd661a-9d2a-40af-a4e1-cacfe85d1b68"
      },
      "outputs": [
        {
          "data": {
            "text/plain": [
              "<matplotlib.collections.PathCollection at 0x7f68e1400710>"
            ]
          },
          "execution_count": 23,
          "metadata": {},
          "output_type": "execute_result"
        },
        {
          "data": {
            "image/png": "[encoded data removed]",
            "text/plain": [
              "<Figure size 432x288 with 1 Axes>"
            ]
          },
          "metadata": {},
          "output_type": "display_data"
        }
      ],
      "source": [
        "pt.scatter(x7,y)"
      ]
    },
    {
      "cell_type": "code",
      "execution_count": null,
      "metadata": {
        "colab": {
          "base_uri": "https://localhost:8080/",
          "height": 282
        },
        "id": "G-7bR5bU_f4L",
        "outputId": "28b7aef4-8895-4f23-afa1-36921d9ea78a"
      },
      "outputs": [
        {
          "data": {
            "text/plain": [
              "<matplotlib.collections.PathCollection at 0x7f68e1385490>"
            ]
          },
          "execution_count": 24,
          "metadata": {},
          "output_type": "execute_result"
        },
        {
          "data": {
            "image/png": "[encoded data removed]",
            "text/plain": [
              "<Figure size 432x288 with 1 Axes>"
            ]
          },
          "metadata": {},
          "output_type": "display_data"
        }
      ],
      "source": [
        "pt.scatter(x8,y)"
      ]
    },
    {
      "cell_type": "code",
      "execution_count": null,
      "metadata": {
        "colab": {
          "base_uri": "https://localhost:8080/",
          "height": 282
        },
        "id": "nLdI03K9_ibt",
        "outputId": "2e35d006-d393-4cfd-92fb-ce010aecf8d6"
      },
      "outputs": [
        {
          "data": {
            "text/plain": [
              "<matplotlib.collections.PathCollection at 0x7f68e12c3f50>"
            ]
          },
          "execution_count": 25,
          "metadata": {},
          "output_type": "execute_result"
        },
        {
          "data": {
            "image/png": "[encoded data removed]",
            "text/plain": [
              "<Figure size 432x288 with 1 Axes>"
            ]
          },
          "metadata": {},
          "output_type": "display_data"
        }
      ],
      "source": [
        "pt.scatter(x9,y)"
      ]
    },
    {
      "cell_type": "code",
      "execution_count": null,
      "metadata": {
        "colab": {
          "base_uri": "https://localhost:8080/",
          "height": 282
        },
        "id": "m-_9_XGQ_j2M",
        "outputId": "5825432a-6ee9-4928-cddf-7f1809e682e9"
      },
      "outputs": [
        {
          "data": {
            "text/plain": [
              "<matplotlib.collections.PathCollection at 0x7f68e124e350>"
            ]
          },
          "execution_count": 26,
          "metadata": {},
          "output_type": "execute_result"
        },
        {
          "data": {
            "image/png": "[encoded data removed]",
            "text/plain": [
              "<Figure size 432x288 with 1 Axes>"
            ]
          },
          "metadata": {},
          "output_type": "display_data"
        }
      ],
      "source": [
        "pt.scatter(x10,y)"
      ]
    },
    {
      "cell_type": "code",
      "execution_count": null,
      "metadata": {
        "colab": {
          "base_uri": "https://localhost:8080/",
          "height": 282
        },
        "id": "etJvT8tS_k-V",
        "outputId": "58adeec3-4009-44d9-95f1-3113f5fecb9c"
      },
      "outputs": [
        {
          "data": {
            "text/plain": [
              "<matplotlib.collections.PathCollection at 0x7f68e11a3f50>"
            ]
          },
          "execution_count": 27,
          "metadata": {},
          "output_type": "execute_result"
        },
        {
          "data": {
            "image/png": "[encoded data removed]",
            "text/plain": [
              "<Figure size 432x288 with 1 Axes>"
            ]
          },
          "metadata": {},
          "output_type": "display_data"
        }
      ],
      "source": [
        "pt.scatter(x11,y)"
      ]
    },
    {
      "cell_type": "code",
      "execution_count": null,
      "metadata": {
        "colab": {
          "base_uri": "https://localhost:8080/",
          "height": 282
        },
        "id": "9YCNx1jR_nm4",
        "outputId": "b440ff85-31e6-4587-8e60-992a784ceb3f"
      },
      "outputs": [
        {
          "data": {
            "text/plain": [
              "<matplotlib.collections.PathCollection at 0x7f68e11dead0>"
            ]
          },
          "execution_count": 28,
          "metadata": {},
          "output_type": "execute_result"
        },
        {
          "data": {
            "image/png": "[encoded data removed]",
            "text/plain": [
              "<Figure size 432x288 with 1 Axes>"
            ]
          },
          "metadata": {},
          "output_type": "display_data"
        }
      ],
      "source": [
        "pt.scatter(x12,y)"
      ]
    }
  ],
  "metadata": {
    "accelerator": "GPU",
    "colab": {
      "collapsed_sections": [],
      "name": "J-COMPONENT FINAL DOC",
      "provenance": []
    },
    "kernelspec": {
      "display_name": "Python 3",
      "name": "python3"
    }
  },
  "nbformat": 4,
  "nbformat_minor": 0
}